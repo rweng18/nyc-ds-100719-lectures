{
 "cells": [
  {
   "cell_type": "markdown",
   "metadata": {},
   "source": [
    "# Yelp API - Lab\n",
    "\n",
    "\n",
    "\n",
    "## Introduction \n",
    "\n",
    "Now that we've seen how the Yelp API works, it's time to put those API and SQL skills to work in order to do some basic business analysis! Taking things a step further, you'll also independently explore how to perform pagination in order to retrieve a full results set from the Yelp API!\n",
    "\n",
    "## Objectives\n",
    "\n",
    "You will be able to:\n",
    "* Create a DB on AWS to store information from Yelp about businesses\n",
    "* Create HTTP requests to get data from Yelp API\n",
    "* Parse HTTP responses and insert the information into your DB\n",
    "* Perform pagination to retrieve troves of data!\n",
    "* Write SQL queries to answer questions about your data "
   ]
  },
  {
   "cell_type": "markdown",
   "metadata": {},
   "source": [
    "## Problem Introduction\n",
    "\n",
    "For this lab you will analyze the yelp data for a group of businesses to learn more about an industry. You will choose a type of business (Italian Restuarants, Nail Salons, Crossfit gyms) and a location to analyze. Then you will get data from the Yelp API, store that data in a SQL Database on AWS, and write queries to answer questions about the data. \n",
    "\n",
    "\n",
    "### Process:\n",
    "\n",
    "1. Read through the SQL questions and the API documentation to determine which pieces of information you need to pull from the Yelp API.\n",
    "\n",
    "2. Create a DB schema with 2 tables. One for the businesses and one for the reviews.\n",
    "\n",
    "3. Create code to:\n",
    "  - Perform a search of businesses using pagination\n",
    "  - Parse the API response for specific data points\n",
    "  - Insert the data into your AWS DB\n",
    "\n",
    "4. Use the functions above in a loop that will paginate over the results to retrieve all of the results. \n",
    "\n",
    "5. Create functions to:\n",
    "  - Retrieve the reviews data of one business\n",
    "  - Parse the reviews response for specific review data\n",
    "  - Insert the review data into the DB\n",
    "\n",
    "6. Using SQL, query all of the business IDs. Using the 3 Python functions you've created, run your business IDs through a loop to get the reviews for each business and insert them into your DB.\n",
    "\n",
    "7. Write SQL queries to answer the following questions about your data.\n",
    "\n",
    "\n",
    "Bonus Steps:  \n",
    "- Place your helper functions in a package so that your final notebook only has the major steps listed.\n",
    "- Rewrite your business search functions to be able take an argument for the type of business you are searching for.\n",
    "- Add another group of businesses to your database.\n"
   ]
  },
  {
   "cell_type": "markdown",
   "metadata": {},
   "source": [
    " \n",
    "## SQL Questions:\n",
    "\n",
    "- Which are the 5 most reviewed businesses?\n",
    "- What is the highest rating recieved in your data set and how many businesses have that rating?\n",
    "- What percentage of businesses have a rating greater than or  4.5?\n",
    "- What percentage of businesses have a rating less than 3?\n",
    "- What is the average rating of restaurants that have a price label of one dollar sign? Two dollar signs? Three dollar signs? \n",
    "- Return the text of the reviews for the most reviewed restaurant. \n",
    "- Return the name of the business with the most recent review. \n",
    "- Find the highest rated business and return text of the most recent review. If multiple business have the same rating, select the restaurant with the most reviews. \n",
    "- Find the lowest rated business and return text of the most recent review.  If multiple business have the same rating, select the restaurant with the least reviews. \n"
   ]
  },
  {
   "cell_type": "code",
   "execution_count": null,
   "metadata": {},
   "outputs": [],
   "source": []
  },
  {
   "cell_type": "markdown",
   "metadata": {},
   "source": [
    "## Part I - Set up the DB\n",
    "\n",
    "Start by reading SQL questions above to get an understanding of the data you will need. Then, read the documentation of Yelp API to understand what data you will receive in the response.  \n",
    "\n",
    "\n",
    "Now that you are familiar with the data, create your SQL queries to create the DB and the appropriate tables. "
   ]
  },
  {
   "cell_type": "code",
   "execution_count": 23,
   "metadata": {},
   "outputs": [],
   "source": [
    "## Connect to DB server on AWS\n",
    "import mysql.connector\n",
    "import config\n",
    "import requests"
   ]
  },
  {
   "cell_type": "code",
   "execution_count": 24,
   "metadata": {},
   "outputs": [],
   "source": [
    "cnx = mysql.connector .connect(\n",
    "    host = config.host,\n",
    "    user = config.user,\n",
    "    passwd = config.password\n",
    ")\n",
    "cursor = cnx.cursor()"
   ]
  },
  {
   "cell_type": "code",
   "execution_count": 25,
   "metadata": {},
   "outputs": [],
   "source": [
    "## Create new DB\n",
    "from mysql.connector import errorcode\n",
    "db_name = 'lunch'\n",
    "def create_database(cursor, database):\n",
    "    try:\n",
    "        cursor.execute(\n",
    "            \"CREATE DATABASE {} DEFAULT CHARACTER SET 'utf8'\".format(database))\n",
    "    except mysql.connector.Error as err:\n",
    "        print(\"Failed creating database: {}\".format(err))\n",
    "        exit(1)\n",
    "\n",
    "try:\n",
    "    cursor.execute(\"USE {}\".format(db_name))\n",
    "except mysql.connector.Error as err:\n",
    "    print(\"Database {} does not exists.\".format(db_name))\n",
    "    if err.errno == errorcode.ER_BAD_DB_ERROR:\n",
    "        create_database(cursor, db_name)\n",
    "        print(\"Database {} created successfully.\".format(db_name))\n",
    "        cnx.database = db_name\n",
    "    else:\n",
    "        print(err)\n",
    "        exit(1)"
   ]
  },
  {
   "cell_type": "code",
   "execution_count": 26,
   "metadata": {},
   "outputs": [],
   "source": [
    "# Create a table for the Businesses\n",
    "DB_NAME = 'lunch'\n",
    "\n",
    "# using dictionary to save CREATE TABLE statements\n",
    "TABLES = {}\n",
    "TABLES['businesses'] = (\n",
    "    \"\"\"CREATE TABLE businesses (\n",
    "       business_id varchar(50) NOT NULL,\n",
    "       name varchar(50) NOT NULL,\n",
    "       price varchar(5) NOT NULL,\n",
    "       categories varchar(50) NOT NULL,\n",
    "       location varchar(50) NOT NULL,\n",
    "       review_count int(10) NOT NULL,\n",
    "       rating float(5) NOT NULL,\n",
    "       PRIMARY KEY (business_id)\n",
    "     ) ENGINE=InnoDB\"\"\")"
   ]
  },
  {
   "cell_type": "code",
   "execution_count": 27,
   "metadata": {},
   "outputs": [],
   "source": [
    "# Create a table for the reviews\n",
    "TABLES['reviews'] = (\n",
    "    \"\"\"CREATE TABLE reviews (\n",
    "       review_id varchar(50) NOT NULL,\n",
    "       business_id varchar(50) NOT NULL,\n",
    "       text varchar(1000) NOT NULL,\n",
    "       time_created varchar(50) NOT NULL,\n",
    "       PRIMARY KEY (review_id)\n",
    "     ) ENGINE=InnoDB\"\"\")"
   ]
  },
  {
   "cell_type": "code",
   "execution_count": 28,
   "metadata": {},
   "outputs": [
    {
     "name": "stdout",
     "output_type": "stream",
     "text": [
      "Creating table businesses: already exists.\n",
      "Creating table reviews: already exists.\n"
     ]
    }
   ],
   "source": [
    "for table_name in TABLES:\n",
    "    table_description = TABLES[table_name]\n",
    "    try:\n",
    "        print(\"Creating table {}: \".format(table_name), end='')\n",
    "        cursor.execute(table_description)\n",
    "    except mysql.connector.Error as err:\n",
    "        if err.errno == errorcode.ER_TABLE_EXISTS_ERROR:\n",
    "            print(\"already exists.\")\n",
    "        else:\n",
    "            print(err.msg)\n",
    "    else:\n",
    "        print(\"OK\")\n",
    "\n",
    "cursor.close()\n",
    "cnx.close()"
   ]
  },
  {
   "cell_type": "markdown",
   "metadata": {},
   "source": [
    "## Part 2: Create ETL pipeline for the business data from the API"
   ]
  },
  {
   "cell_type": "code",
   "execution_count": 56,
   "metadata": {},
   "outputs": [],
   "source": [
    "cnx = mysql.connector.connect(\n",
    "    host = config.host,\n",
    "    user = config.user,\n",
    "    passwd = config.password,\n",
    "    database = db_name,\n",
    "    buffered = True\n",
    ")\n",
    "cursor = cnx.cursor()"
   ]
  },
  {
   "cell_type": "code",
   "execution_count": null,
   "metadata": {},
   "outputs": [],
   "source": [
    "# Sample code\n",
    "def yelp_call(url_params, api_key):\n",
    "    url = 'https://api.yelp.com/v3/businesses/search'\n",
    "    headers = {'Authorization': 'Bearer {}'.format(api_key)}\n",
    "    response = requests.get(url, headers=headers, params=url_params)\n",
    "    data = response.json()['businesses']\n",
    "    return data"
   ]
  },
  {
   "cell_type": "code",
   "execution_count": 45,
   "metadata": {},
   "outputs": [],
   "source": [
    "# Write a function to make a call to the yelp API\n",
    "# url_params --> location = \"Financial District, Manhattan, NY\"\n",
    "def call_yelp(url_params, api_key):\n",
    "    url = 'https://api.yelp.com/v3/businesses/search'\n",
    "    headers = {'Authorization': 'Bearer {}'.format(api_key)}\n",
    "    response = requests.get(url, headers=headers, params=url_params)\n",
    "    data = response.json()['businesses']\n",
    "    return data"
   ]
  },
  {
   "cell_type": "code",
   "execution_count": 46,
   "metadata": {
    "scrolled": true
   },
   "outputs": [],
   "source": [
    "import api # contains api key"
   ]
  },
  {
   "cell_type": "code",
   "execution_count": 47,
   "metadata": {},
   "outputs": [],
   "source": [
    "test = call_yelp({'location': 'Financial District, Manhattan, NY', 'categories': 'food'}, api.key)"
   ]
  },
  {
   "cell_type": "code",
   "execution_count": 49,
   "metadata": {},
   "outputs": [
    {
     "data": {
      "text/plain": [
       "{'id': 'rQpO1Eie_zmeAOQ9s-T0sQ',\n",
       " 'alias': 'hole-in-the-wall-new-york-2',\n",
       " 'name': 'Hole in the Wall',\n",
       " 'image_url': 'https://s3-media1.fl.yelpcdn.com/bphoto/KQwNs2HFWF0GDEGoSYgAEg/o.jpg',\n",
       " 'is_closed': False,\n",
       " 'url': 'https://www.yelp.com/biz/hole-in-the-wall-new-york-2?adjust_creative=ih6A7b6xiJrw8qxUMyi_ZA&utm_campaign=yelp_api_v3&utm_medium=api_v3_business_search&utm_source=ih6A7b6xiJrw8qxUMyi_ZA',\n",
       " 'review_count': 500,\n",
       " 'categories': [{'alias': 'breakfast_brunch', 'title': 'Breakfast & Brunch'},\n",
       "  {'alias': 'cocktailbars', 'title': 'Cocktail Bars'},\n",
       "  {'alias': 'juicebars', 'title': 'Juice Bars & Smoothies'}],\n",
       " 'rating': 4.0,\n",
       " 'coordinates': {'latitude': 40.70837, 'longitude': -74.00563},\n",
       " 'transactions': [],\n",
       " 'price': '$$',\n",
       " 'location': {'address1': '15 Cliff St',\n",
       "  'address2': '',\n",
       "  'address3': '',\n",
       "  'city': 'New York',\n",
       "  'zip_code': '10038',\n",
       "  'country': 'US',\n",
       "  'state': 'NY',\n",
       "  'display_address': ['15 Cliff St', 'New York, NY 10038']},\n",
       " 'phone': '+12126029991',\n",
       " 'display_phone': '(212) 602-9991',\n",
       " 'distance': 139.2834682252321}"
      ]
     },
     "execution_count": 49,
     "metadata": {},
     "output_type": "execute_result"
    }
   ],
   "source": [
    "test[0]"
   ]
  },
  {
   "cell_type": "code",
   "execution_count": 55,
   "metadata": {},
   "outputs": [
    {
     "name": "stdout",
     "output_type": "stream",
     "text": [
      "rQpO1Eie_zmeAOQ9s-T0sQ\n",
      "Hole in the Wall\n",
      "$$\n",
      "[{'alias': 'breakfast_brunch', 'title': 'Breakfast & Brunch'}, {'alias': 'cocktailbars', 'title': 'Cocktail Bars'}, {'alias': 'juicebars', 'title': 'Juice Bars & Smoothies'}]\n",
      "['15 Cliff St', 'New York, NY 10038']\n",
      "500\n",
      "4.0\n",
      "pL2tig3FxJcrZ4wDIO4TsA\n",
      "Eataly NYC Downtown\n",
      "$$\n",
      "[{'alias': 'grocery', 'title': 'Grocery'}, {'alias': 'italian', 'title': 'Italian'}, {'alias': 'meats', 'title': 'Meat Shops'}]\n",
      "['101 Liberty St', 'Fl 3', 'New York, NY 10006']\n",
      "906\n",
      "3.5\n",
      "o6q3jm-dU5A6nV3r2lBg9A\n",
      "Chinatown Ice Cream Factory\n",
      "$\n",
      "[{'alias': 'icecream', 'title': 'Ice Cream & Frozen Yogurt'}, {'alias': 'desserts', 'title': 'Desserts'}]\n",
      "['65 Bayard St', 'New York, NY 10013']\n",
      "2688\n",
      "4.0\n",
      "t4B9GkAuiYIjFCt9SlK3EQ\n",
      "Poke Bowl\n",
      "$$\n",
      "[{'alias': 'poke', 'title': 'Poke'}, {'alias': 'sushi', 'title': 'Sushi Bars'}]\n",
      "['104 Fulton St', 'New York, NY 10038']\n",
      "304\n",
      "4.0\n",
      "qzdCvtgpCDjNVV_zRJB5EQ\n",
      "Voyager Espresso\n",
      "$\n",
      "[{'alias': 'coffee', 'title': 'Coffee & Tea'}, {'alias': 'cafes', 'title': 'Cafes'}, {'alias': 'sandwiches', 'title': 'Sandwiches'}]\n",
      "['110 William St', 'New York, NY 10038']\n",
      "126\n",
      "4.5\n",
      "N-M-c8yQFqGW1jn_tdCzPg\n",
      "Sam's Falafel Stand\n",
      "$\n",
      "[{'alias': 'falafel', 'title': 'Falafel'}, {'alias': 'foodtrucks', 'title': 'Food Trucks'}]\n",
      "['Cedar St And Broadway', 'New York, NY 10006']\n",
      "196\n",
      "4.5\n",
      "L1EX8018Ng_u59kw742L0Q\n",
      "La Petite Cave\n",
      "$$\n",
      "[{'alias': 'beer_and_wine', 'title': 'Beer, Wine & Spirits'}]\n",
      "['83 Maiden Ln', 'New York, NY 10038']\n",
      "96\n",
      "5.0\n",
      "GlPJPpKvPR4d8dmcSEYpdA\n",
      "Takahachi Bakery\n",
      "$$\n",
      "[{'alias': 'bakeries', 'title': 'Bakeries'}, {'alias': 'japanese', 'title': 'Japanese'}, {'alias': 'coffee', 'title': 'Coffee & Tea'}]\n",
      "['25 Murray St', 'New York, NY 10007']\n",
      "878\n",
      "4.0\n",
      "vk7W3_sQwr7eZbRFsXv6rw\n",
      "Taiyaki NYC\n",
      "$\n",
      "[{'alias': 'icecream', 'title': 'Ice Cream & Frozen Yogurt'}]\n",
      "['119 Baxter St', 'New York, NY 10013']\n",
      "2781\n",
      "4.5\n",
      "-MDpSeMiCsvfz9TueedWwg\n",
      "La Colombe Coffee\n",
      "$$\n",
      "[{'alias': 'coffee', 'title': 'Coffee & Tea'}]\n",
      "['67 Wall St', 'New York, NY 10005']\n",
      "157\n",
      "4.5\n",
      "s-Fg5eHqv4VCAn2ANkHiZA\n",
      "Leo's Bagels\n",
      "$\n",
      "[{'alias': 'coffee', 'title': 'Coffee & Tea'}, {'alias': 'bagels', 'title': 'Bagels'}, {'alias': 'breakfast_brunch', 'title': 'Breakfast & Brunch'}]\n",
      "['3 Hanover Sq', 'New York, NY 10005']\n",
      "826\n",
      "3.5\n",
      "FFOfIf3yEy-j2eZadKMo_Q\n",
      "Periscope Coffee\n",
      "$\n",
      "[{'alias': 'coffee', 'title': 'Coffee & Tea'}, {'alias': 'foodtrucks', 'title': 'Food Trucks'}]\n",
      "['123 Pearl St', 'New York, NY 10005']\n",
      "65\n",
      "5.0\n",
      "0EHlocaJGVHPENeILaubUg\n",
      "Financier Patisserie\n",
      "$$\n",
      "[{'alias': 'coffee', 'title': 'Coffee & Tea'}, {'alias': 'cakeshop', 'title': 'Patisserie/Cake Shop'}]\n",
      "['62 Stone St', 'New York, NY 10004']\n",
      "367\n",
      "4.0\n",
      "O6LArju5DvLrGNrvErieVA\n",
      "Bluestone Lane\n",
      "$\n",
      "[{'alias': 'coffee', 'title': 'Coffee & Tea'}, {'alias': 'gluten_free', 'title': 'Gluten-Free'}, {'alias': 'breakfast_brunch', 'title': 'Breakfast & Brunch'}]\n",
      "['30 Broad St', 'New York, NY 10004']\n",
      "248\n",
      "4.0\n",
      "qfk_JyRqMmm6FDfoqN6GiA\n",
      "Minus10 Ice Cream\n",
      "$\n",
      "[{'alias': 'icecream', 'title': 'Ice Cream & Frozen Yogurt'}]\n",
      "['10 Mott St', 'New York, NY 10013']\n",
      "1267\n",
      "4.0\n",
      "lBO2fKhSnvqKDj_C8Uh9aQ\n",
      "GRK Fresh Greek - Financial District\n",
      "$$\n",
      "[{'alias': 'greek', 'title': 'Greek'}, {'alias': 'icecream', 'title': 'Ice Cream & Frozen Yogurt'}]\n",
      "['111 Fulton St', 'New York, NY 10038']\n",
      "476\n",
      "3.5\n",
      "lWOkeS-wV4no8qqA9OwwEg\n",
      "Doughnut Plant\n",
      "$$\n",
      "[{'alias': 'donuts', 'title': 'Donuts'}, {'alias': 'coffee', 'title': 'Coffee & Tea'}]\n",
      "['379 Grand St', 'New York, NY 10002']\n",
      "3176\n",
      "4.5\n",
      "aZ0S4F4RG3b4sYkkZbzwkw\n",
      "PROOF Coffee Roasters\n",
      "$\n",
      "[{'alias': 'coffee', 'title': 'Coffee & Tea'}, {'alias': 'cafes', 'title': 'Cafes'}, {'alias': 'desserts', 'title': 'Desserts'}]\n",
      "['65 Nassau St', 'New York, NY 10038']\n",
      "99\n",
      "4.5\n",
      "Dq_KwjD7WpGmgrXiu0qEOg\n",
      "Made Fresh Daily\n",
      "$$\n",
      "[{'alias': 'coffee', 'title': 'Coffee & Tea'}, {'alias': 'sandwiches', 'title': 'Sandwiches'}, {'alias': 'breakfast_brunch', 'title': 'Breakfast & Brunch'}]\n",
      "['226 Front St', 'New York, NY 10038']\n",
      "187\n",
      "4.0\n",
      "nU4XBdvxDABXqZ6CnB8Dig\n",
      "Clinton Street Baking Company\n",
      "$$\n",
      "[{'alias': 'bakeries', 'title': 'Bakeries'}, {'alias': 'breakfast_brunch', 'title': 'Breakfast & Brunch'}, {'alias': 'tradamerican', 'title': 'American (Traditional)'}]\n",
      "['4 Clinton St', 'New York, NY 10002']\n",
      "4874\n",
      "4.0\n"
     ]
    }
   ],
   "source": [
    "# TABLES['businesses'] = (\n",
    "#     \"\"\"CREATE TABLE businesses (\n",
    "#        business_id varchar(50) NOT NULL,\n",
    "#        name varchar(50) NOT NULL,\n",
    "#        price varchar(5) NOT NULL,\n",
    "#        categories varchar(50) NOT NULL,\n",
    "#        location varchar(50) NOT NULL,\n",
    "#        review_count int(10) NOT NULL,\n",
    "#        rating float(5) NOT NULL,\n",
    "#        PRIMARY KEY (business_id)\n",
    "#      ) ENGINE=InnoDB\"\"\")\n",
    "for index in range(0, len(test)):\n",
    "    print(test[index]['id'])\n",
    "    print(test[index]['name'])\n",
    "    print(test[index]['price'])\n",
    "    print(test[index]['categories'])\n",
    "    print(test[index]['location']['display_address'])\n",
    "    print(test[index]['review_count'])\n",
    "    print(test[index]['rating'])"
   ]
  },
  {
   "cell_type": "code",
   "execution_count": 59,
   "metadata": {},
   "outputs": [],
   "source": [
    "# write a function to parse the API response \n",
    "# so that you can easily insert the data in to the DB\n",
    "def parse_yelp(data):\n",
    "    businesses = []\n",
    "    for index in range(0, len(data)):\n",
    "        business_i = data[index]\n",
    "        business_info = (business_i['id'], business_i['name'], business_i['price'], \n",
    "                         business_i['categories'], business_i['location']['display_address'], \n",
    "                         business_i['review_count'], business_i['rating'])\n",
    "        businesses.append(business_info)\n",
    "    return businesses"
   ]
  },
  {
   "cell_type": "code",
   "execution_count": 61,
   "metadata": {},
   "outputs": [
    {
     "ename": "InterfaceError",
     "evalue": "Failed executing the operation; Python type list cannot be converted",
     "output_type": "error",
     "traceback": [
      "\u001b[0;31m---------------------------------------------------------------------------\u001b[0m",
      "\u001b[0;31mMySQLInterfaceError\u001b[0m                       Traceback (most recent call last)",
      "\u001b[0;32m//anaconda3/lib/python3.7/site-packages/mysql/connector/cursor_cext.py\u001b[0m in \u001b[0;36m_batch_insert\u001b[0;34m(self, operation, seq_params)\u001b[0m\n\u001b[1;32m    307\u001b[0m                 \u001b[0mtmp\u001b[0m \u001b[0;34m=\u001b[0m \u001b[0mfmt\u001b[0m\u001b[0;34m\u001b[0m\u001b[0;34m\u001b[0m\u001b[0m\n\u001b[0;32m--> 308\u001b[0;31m                 \u001b[0mprepared\u001b[0m \u001b[0;34m=\u001b[0m \u001b[0mself\u001b[0m\u001b[0;34m.\u001b[0m\u001b[0m_cnx\u001b[0m\u001b[0;34m.\u001b[0m\u001b[0mprepare_for_mysql\u001b[0m\u001b[0;34m(\u001b[0m\u001b[0mparams\u001b[0m\u001b[0;34m)\u001b[0m\u001b[0;34m\u001b[0m\u001b[0;34m\u001b[0m\u001b[0m\n\u001b[0m\u001b[1;32m    309\u001b[0m                 \u001b[0;32mif\u001b[0m \u001b[0misinstance\u001b[0m\u001b[0;34m(\u001b[0m\u001b[0mprepared\u001b[0m\u001b[0;34m,\u001b[0m \u001b[0mdict\u001b[0m\u001b[0;34m)\u001b[0m\u001b[0;34m:\u001b[0m\u001b[0;34m\u001b[0m\u001b[0;34m\u001b[0m\u001b[0m\n",
      "\u001b[0;32m//anaconda3/lib/python3.7/site-packages/mysql/connector/connection_cext.py\u001b[0m in \u001b[0;36mprepare_for_mysql\u001b[0;34m(self, params)\u001b[0m\n\u001b[1;32m    608\u001b[0m         \u001b[0;32mif\u001b[0m \u001b[0misinstance\u001b[0m\u001b[0;34m(\u001b[0m\u001b[0mparams\u001b[0m\u001b[0;34m,\u001b[0m \u001b[0;34m(\u001b[0m\u001b[0mlist\u001b[0m\u001b[0;34m,\u001b[0m \u001b[0mtuple\u001b[0m\u001b[0;34m)\u001b[0m\u001b[0;34m)\u001b[0m\u001b[0;34m:\u001b[0m\u001b[0;34m\u001b[0m\u001b[0;34m\u001b[0m\u001b[0m\n\u001b[0;32m--> 609\u001b[0;31m             \u001b[0mresult\u001b[0m \u001b[0;34m=\u001b[0m \u001b[0mself\u001b[0m\u001b[0;34m.\u001b[0m\u001b[0m_cmysql\u001b[0m\u001b[0;34m.\u001b[0m\u001b[0mconvert_to_mysql\u001b[0m\u001b[0;34m(\u001b[0m\u001b[0;34m*\u001b[0m\u001b[0mparams\u001b[0m\u001b[0;34m)\u001b[0m\u001b[0;34m\u001b[0m\u001b[0;34m\u001b[0m\u001b[0m\n\u001b[0m\u001b[1;32m    610\u001b[0m         \u001b[0;32melif\u001b[0m \u001b[0misinstance\u001b[0m\u001b[0;34m(\u001b[0m\u001b[0mparams\u001b[0m\u001b[0;34m,\u001b[0m \u001b[0mdict\u001b[0m\u001b[0;34m)\u001b[0m\u001b[0;34m:\u001b[0m\u001b[0;34m\u001b[0m\u001b[0;34m\u001b[0m\u001b[0m\n",
      "\u001b[0;31mMySQLInterfaceError\u001b[0m: Python type list cannot be converted",
      "\nDuring handling of the above exception, another exception occurred:\n",
      "\u001b[0;31mInterfaceError\u001b[0m                            Traceback (most recent call last)",
      "\u001b[0;32m<ipython-input-61-e77a4e8fcada>\u001b[0m in \u001b[0;36m<module>\u001b[0;34m\u001b[0m\n\u001b[1;32m      3\u001b[0m \u001b[0;34m\u001b[0m\u001b[0m\n\u001b[1;32m      4\u001b[0m \u001b[0minsert_statement\u001b[0m \u001b[0;34m=\u001b[0m \u001b[0;34m\"INSERT INTO businesses (business_id, name, price, categories, location, review_count, rating) VALUES (%s, %s, %s, %s, %s, %s, %s)\"\u001b[0m\u001b[0;34m\u001b[0m\u001b[0;34m\u001b[0m\u001b[0m\n\u001b[0;32m----> 5\u001b[0;31m \u001b[0mcursor\u001b[0m\u001b[0;34m.\u001b[0m\u001b[0mexecutemany\u001b[0m\u001b[0;34m(\u001b[0m\u001b[0minsert_statement\u001b[0m\u001b[0;34m,\u001b[0m \u001b[0mtest_data\u001b[0m\u001b[0;34m)\u001b[0m\u001b[0;34m\u001b[0m\u001b[0;34m\u001b[0m\u001b[0m\n\u001b[0m\u001b[1;32m      6\u001b[0m \u001b[0mcnx\u001b[0m\u001b[0;34m.\u001b[0m\u001b[0mcommit\u001b[0m\u001b[0;34m(\u001b[0m\u001b[0;34m)\u001b[0m\u001b[0;34m\u001b[0m\u001b[0;34m\u001b[0m\u001b[0m\n",
      "\u001b[0;32m//anaconda3/lib/python3.7/site-packages/mysql/connector/cursor_cext.py\u001b[0m in \u001b[0;36mexecutemany\u001b[0;34m(self, operation, seq_params)\u001b[0m\n\u001b[1;32m    348\u001b[0m                 \u001b[0mself\u001b[0m\u001b[0;34m.\u001b[0m\u001b[0m_rowcount\u001b[0m \u001b[0;34m=\u001b[0m \u001b[0;36m0\u001b[0m\u001b[0;34m\u001b[0m\u001b[0;34m\u001b[0m\u001b[0m\n\u001b[1;32m    349\u001b[0m                 \u001b[0;32mreturn\u001b[0m \u001b[0;32mNone\u001b[0m\u001b[0;34m\u001b[0m\u001b[0;34m\u001b[0m\u001b[0m\n\u001b[0;32m--> 350\u001b[0;31m             \u001b[0mstmt\u001b[0m \u001b[0;34m=\u001b[0m \u001b[0mself\u001b[0m\u001b[0;34m.\u001b[0m\u001b[0m_batch_insert\u001b[0m\u001b[0;34m(\u001b[0m\u001b[0moperation\u001b[0m\u001b[0;34m,\u001b[0m \u001b[0mseq_params\u001b[0m\u001b[0;34m)\u001b[0m\u001b[0;34m\u001b[0m\u001b[0;34m\u001b[0m\u001b[0m\n\u001b[0m\u001b[1;32m    351\u001b[0m             \u001b[0;32mif\u001b[0m \u001b[0mstmt\u001b[0m \u001b[0;32mis\u001b[0m \u001b[0;32mnot\u001b[0m \u001b[0;32mNone\u001b[0m\u001b[0;34m:\u001b[0m\u001b[0;34m\u001b[0m\u001b[0;34m\u001b[0m\u001b[0m\n\u001b[1;32m    352\u001b[0m                 \u001b[0;32mreturn\u001b[0m \u001b[0mself\u001b[0m\u001b[0;34m.\u001b[0m\u001b[0mexecute\u001b[0m\u001b[0;34m(\u001b[0m\u001b[0mstmt\u001b[0m\u001b[0;34m)\u001b[0m\u001b[0;34m\u001b[0m\u001b[0;34m\u001b[0m\u001b[0m\n",
      "\u001b[0;32m//anaconda3/lib/python3.7/site-packages/mysql/connector/cursor_cext.py\u001b[0m in \u001b[0;36m_batch_insert\u001b[0;34m(self, operation, seq_params)\u001b[0m\n\u001b[1;32m    327\u001b[0m         \u001b[0;32mexcept\u001b[0m \u001b[0mException\u001b[0m \u001b[0;32mas\u001b[0m \u001b[0merr\u001b[0m\u001b[0;34m:\u001b[0m\u001b[0;34m\u001b[0m\u001b[0;34m\u001b[0m\u001b[0m\n\u001b[1;32m    328\u001b[0m             raise errors.InterfaceError(\n\u001b[0;32m--> 329\u001b[0;31m                 \"Failed executing the operation; %s\" % err)\n\u001b[0m\u001b[1;32m    330\u001b[0m \u001b[0;34m\u001b[0m\u001b[0m\n\u001b[1;32m    331\u001b[0m \u001b[0;34m\u001b[0m\u001b[0m\n",
      "\u001b[0;31mInterfaceError\u001b[0m: Failed executing the operation; Python type list cannot be converted"
     ]
    }
   ],
   "source": [
    "# Write a function to take your parsed data and insert it into the DB\n",
    "test_data = parse_yelp(test)\n",
    "\n",
    "insert_statement = \"INSERT INTO businesses (business_id, name, price, categories, location, review_count, rating) VALUES (%s, %s, %s, %s, %s, %s, %s)\"\n",
    "cursor.executemany(insert_statement, test_data)\n",
    "cnx.commit()"
   ]
  },
  {
   "cell_type": "code",
   "execution_count": null,
   "metadata": {},
   "outputs": [],
   "source": [
    "# Write a script that combines the three functions above into a single process."
   ]
  },
  {
   "cell_type": "markdown",
   "metadata": {},
   "source": [
    "## Part 3: Create ETL pipeline for the restaurant review data from the API"
   ]
  },
  {
   "cell_type": "code",
   "execution_count": null,
   "metadata": {},
   "outputs": [],
   "source": [
    "# write a SQL query to pull back all of the business ids \n",
    "# you will need these ids to pull back the reviews for each restaurant"
   ]
  },
  {
   "cell_type": "code",
   "execution_count": null,
   "metadata": {},
   "outputs": [],
   "source": [
    "# write a function that takes a business id \n",
    "# and makes a call to the API for reivews\n"
   ]
  },
  {
   "cell_type": "code",
   "execution_count": null,
   "metadata": {},
   "outputs": [],
   "source": [
    "# Write a function to parse out the relevant information from the reviews"
   ]
  },
  {
   "cell_type": "code",
   "execution_count": null,
   "metadata": {},
   "outputs": [],
   "source": [
    "# write a function to insert the parsed data into the reviews table"
   ]
  },
  {
   "cell_type": "code",
   "execution_count": null,
   "metadata": {},
   "outputs": [],
   "source": [
    "# combine the functions above into a single script  "
   ]
  },
  {
   "cell_type": "markdown",
   "metadata": {},
   "source": [
    "## Part 4: Write SQL queries that will answer the questions posed. "
   ]
  },
  {
   "cell_type": "code",
   "execution_count": null,
   "metadata": {},
   "outputs": [],
   "source": [
    "# create connection"
   ]
  },
  {
   "cell_type": "code",
   "execution_count": null,
   "metadata": {},
   "outputs": [],
   "source": [
    "# execute SQL queries"
   ]
  },
  {
   "cell_type": "code",
   "execution_count": null,
   "metadata": {},
   "outputs": [],
   "source": []
  },
  {
   "cell_type": "markdown",
   "metadata": {},
   "source": [
    "# Extra Reference help"
   ]
  },
  {
   "cell_type": "markdown",
   "metadata": {},
   "source": [
    "###  Pagination\n",
    "\n",
    "Returning to the Yelp API, the [documentation](https://www.yelp.com/developers/documentation/v3/business_search) also provides us details regarding the API limits. These often include details about the number of requests a user is allowed to make within a specified time limit and the maximum number of results to be returned. In this case, we are told that any request has a maximum of 50 results per request and defaults to 20. Furthermore, any search will be limited to a total of 1000 results. To retrieve all 1000 of these results, we would have to page through the results piece by piece, retriving 50 at a time. Processes such as these are often refered to as pagination.\n",
    "\n",
    "Now that you have an initial response, you can examine the contents of the json container. For example, you might start with ```response.json().keys()```. Here, you'll see a key for `'total'`, which tells you the full number of matching results given your query parameters. Write a loop (or ideally a function) which then makes successive API calls using the offset parameter to retrieve all of the results (or 5000 for a particularly large result set) for the original query. As you do this, be mindful of how you store the data. \n",
    "\n",
    "**Note: be mindful of the API rate limits. You can only make 5000 requests per day, and APIs can make requests too fast. Start prototyping small before running a loop that could be faulty. You can also use time.sleep(n) to add delays. For more details see https://www.yelp.com/developers/documentation/v3/rate_limiting.**"
   ]
  },
  {
   "cell_type": "markdown",
   "metadata": {},
   "source": [
    "***Below is sample code that you can use to help you deal with the pagination parameter and bring all of the functions together.***\n",
    "\n",
    "\n",
    "***Also, something might cause your code to break while it is running. You don't want to constantly repull the same data when this happens, so you should insert the data into the database as you call and parse it, not after you have all of the data***\n"
   ]
  },
  {
   "cell_type": "code",
   "execution_count": null,
   "metadata": {},
   "outputs": [],
   "source": [
    "def yelp_call(url_params, api_key):\n",
    "    url = 'https://api.yelp.com/v3/businesses/search'\n",
    "    headers = {'Authorization': 'Bearer {}'.format(api_key)}\n",
    "    response = requests.get(url, headers=headers, params=url_params)\n",
    "    \n",
    "    data = response.json()['businesses']\n",
    "    return data"
   ]
  },
  {
   "cell_type": "code",
   "execution_count": null,
   "metadata": {},
   "outputs": [],
   "source": [
    "def parse_results(results):\n",
    "    \n",
    "    return parsed_results"
   ]
  },
  {
   "cell_type": "code",
   "execution_count": null,
   "metadata": {},
   "outputs": [],
   "source": [
    "# Your code here; use a function or loop to retrieve all the results from your original request\n",
    "import time\n",
    "\n",
    "\n",
    "\n",
    "def all_results(url_params, api_key):\n",
    "    num = response.json()['total']\n",
    "    print('{} total matches found.'.format(num))\n",
    "    cur = 0\n",
    "    \n",
    "    while cur < num and cur < 1000:\n",
    "        url_params['offset'] = cur\n",
    "        results = yelp_call(url_params, api_key)\n",
    "        parsed_results = parse_results(results)\n",
    "        db_insert(parsed)\n",
    "        time.sleep(1) #Wait a second\n",
    "        cur += 50\n",
    "\n",
    "term = 'pizza'\n",
    "location = 'Astoria NY'\n",
    "url_params = {  'term': term.replace(' ', '+'),\n",
    "                'location': location.replace(' ', '+'),\n",
    "                'limit' : 50\n",
    "             }\n",
    "df = all_results(url_params, api_key)\n",
    "print(len(df))\n",
    "df.head()"
   ]
  },
  {
   "cell_type": "markdown",
   "metadata": {},
   "source": [
    "### Sample SQL Query \n",
    "\n",
    "Below is a SQL query to create a table.  Additionally here is a link to create a table with a foreign key.\n",
    "\n",
    "http://www.mysqltutorial.org/mysql-foreign-key/\n",
    "\n",
    "```CREATE TABLE IF NOT EXISTS tasks (\n",
    "    task_id INT AUTO_INCREMENT,\n",
    "    title VARCHAR(255) NOT NULL,\n",
    "    start_date DATE,\n",
    "    due_date DATE,\n",
    "    status TINYINT NOT NULL,\n",
    "    priority TINYINT NOT NULL,\n",
    "    description TEXT,\n",
    "    PRIMARY KEY (task_id)\n",
    ")  ENGINE=INNODB;```"
   ]
  },
  {
   "cell_type": "markdown",
   "metadata": {},
   "source": [
    "### Using DB:\n",
    "    \n",
    "For this lab, you can either store the data on one DB or put in on both of the partners DBs. If you decide to put it on one DB, you want to make sure both partners have access to it.  To do this you want to add a user to your DB.  \n",
    "\n",
    "[how to add a new user](https://howchoo.com/g/mtm3zdq2nzv/how-to-add-a-mysql-user-and-grant-privileges)"
   ]
  },
  {
   "cell_type": "code",
   "execution_count": null,
   "metadata": {},
   "outputs": [],
   "source": []
  }
 ],
 "metadata": {
  "kernelspec": {
   "display_name": "Python 3",
   "language": "python",
   "name": "python3"
  },
  "language_info": {
   "codemirror_mode": {
    "name": "ipython",
    "version": 3
   },
   "file_extension": ".py",
   "mimetype": "text/x-python",
   "name": "python",
   "nbconvert_exporter": "python",
   "pygments_lexer": "ipython3",
   "version": "3.7.3"
  },
  "toc": {
   "base_numbering": 1,
   "nav_menu": {},
   "number_sections": false,
   "sideBar": true,
   "skip_h1_title": false,
   "title_cell": "Table of Contents",
   "title_sidebar": "Contents",
   "toc_cell": false,
   "toc_position": {},
   "toc_section_display": true,
   "toc_window_display": false
  }
 },
 "nbformat": 4,
 "nbformat_minor": 2
}
