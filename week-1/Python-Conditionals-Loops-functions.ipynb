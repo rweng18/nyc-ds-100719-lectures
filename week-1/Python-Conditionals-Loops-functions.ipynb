{
 "cells": [
  {
   "cell_type": "markdown",
   "metadata": {},
   "source": [
    "### Reassignment and Updating variables"
   ]
  },
  {
   "cell_type": "markdown",
   "metadata": {},
   "source": [
    "Variables are mutable so that means we can change the value associated assigned to the variable. "
   ]
  },
  {
   "cell_type": "code",
   "execution_count": null,
   "metadata": {},
   "outputs": [],
   "source": [
    "bruce = 5\n",
    "print(bruce)\n",
    "bruce = 7\n",
    "print(bruce)"
   ]
  },
  {
   "cell_type": "markdown",
   "metadata": {},
   "source": [
    "When an assignment statement is executed, the right-hand-side expression (i.e. the expression that comes after the assignment token) is evaluated first. Then the result of that evaluation is written into the variable on the left hand side, thereby changing it.\n",
    "\n",
    "One of the most common forms of reassignment is an update, where the new value of the variable depends on its old value."
   ]
  },
  {
   "cell_type": "code",
   "execution_count": null,
   "metadata": {
    "scrolled": true
   },
   "outputs": [],
   "source": [
    "x= 0\n",
    "print(x)\n",
    "x = x + 1\n",
    "print(x)\n",
    "x*=1\n",
    "print(x)"
   ]
  },
  {
   "cell_type": "markdown",
   "metadata": {},
   "source": [
    "# Starting Off:\n",
    "\n",
    "Imagine there is a jar of M&M's and you are given the mundane task of separating them into two piles, ones for primary colors and one for secondary colors.\n",
    "\n",
    "Write down the process you would go through to complete this task. "
   ]
  },
  {
   "cell_type": "markdown",
   "metadata": {},
   "source": [
    "#Write pseudo-code here:\n"
   ]
  },
  {
   "cell_type": "markdown",
   "metadata": {},
   "source": [
    "# Loops, Conditionals, and Functions"
   ]
  },
  {
   "cell_type": "markdown",
   "metadata": {},
   "source": [
    "**Goals**: SWBAT write a function that parses a list of lists into a dictionary, utilizing loops and conditionals\n",
    "    "
   ]
  },
  {
   "cell_type": "markdown",
   "metadata": {},
   "source": [
    "## Conditionals\n",
    "\n",
    "In programming, conditionals give us the ability to check conditions of a variable and then change the behavior of the program accordingly. \n",
    "\n"
   ]
  },
  {
   "cell_type": "markdown",
   "metadata": {},
   "source": [
    "<img src='http://www.openbookproject.net/books/bpp4awd/_images/flowchart_if_only.png'/>"
   ]
  },
  {
   "cell_type": "markdown",
   "metadata": {},
   "source": [
    "We are able to do this by combining 'if' statements and comparison operators."
   ]
  },
  {
   "cell_type": "markdown",
   "metadata": {},
   "source": [
    "### Comparison operators\n",
    "```\n",
    "==\n",
    "!=\n",
    ">\n",
    "<\n",
    "<=\n",
    ">=\n",
    "```"
   ]
  },
  {
   "cell_type": "markdown",
   "metadata": {},
   "source": [
    "### If Statements\n",
    "The general form of an 'if' statement is :\n",
    "    \n",
    "```if Boolean Expression:\n",
    "        Statments\n",
    "        ```"
   ]
  },
  {
   "cell_type": "markdown",
   "metadata": {},
   "source": [
    "A few important things to note about if statements:\n",
    "\n",
    "1. The colon (:) is significant and required. It separates the header of the compound statement from the body.\n",
    "2. The line after the colon must be indented. It is standard in Python to use four spaces for indenting.\n",
    "3. All lines indented the same amount after the colon will be executed whenever the BOOLEAN_EXPRESSION is true.\n",
    "\n",
    "Here is an example:\n"
   ]
  },
  {
   "cell_type": "code",
   "execution_count": null,
   "metadata": {},
   "outputs": [],
   "source": [
    "food = 'spam'\n",
    "\n",
    "if food == 'spam':\n",
    "    print('Ummmm, my favorite!')\n",
    "    print('I feel like saying it 100 times...')\n",
    "    print(100 * (food + '! '))"
   ]
  },
  {
   "cell_type": "markdown",
   "metadata": {},
   "source": [
    "### if else Statement\n",
    "\n",
    "It is frequently the case that you want one thing to happen when a condition it true, and something else to happen when it is false. For that we have the `if else` statement.\n",
    "\n"
   ]
  },
  {
   "cell_type": "markdown",
   "metadata": {},
   "source": [
    "<img src='http://www.openbookproject.net/books/bpp4awd/_images/flowchart_if_else.png'/>"
   ]
  },
  {
   "cell_type": "code",
   "execution_count": null,
   "metadata": {},
   "outputs": [],
   "source": [
    "if food == 'ham':\n",
    "    print('Ummmm, my favorite!')\n",
    "else:\n",
    "    print(\"No, I won't have it. I want spam!\")"
   ]
  },
  {
   "cell_type": "markdown",
   "metadata": {},
   "source": [
    "### Chained Conditionals\n",
    "\n",
    "Sometimes there are more than two possibilities and we need more than two branches. One way to express a computation like that is a chained conditional:\n"
   ]
  },
  {
   "cell_type": "markdown",
   "metadata": {},
   "source": [
    "<img src='http://www.openbookproject.net/books/bpp4awd/_images/flowchart_chained_conditional.png' />"
   ]
  },
  {
   "cell_type": "code",
   "execution_count": null,
   "metadata": {},
   "outputs": [],
   "source": [
    "choice= 'kjgjkgjkh'\n",
    "\n",
    "if choice == 'a':\n",
    "    print(\"You chose 'a'.\")\n",
    "elif choice == 'b':\n",
    "    print(\"You chose 'b'.\")\n",
    "elif choice == 'c':\n",
    "    print(\"You chose 'c'.\")\n",
    "else:\n",
    "    print(\"Invalid choice.\")"
   ]
  },
  {
   "cell_type": "markdown",
   "metadata": {},
   "source": [
    "### Nested conditionals\n",
    "One conditional can also be nested within another.\n",
    "\n",
    "<img src='http://www.openbookproject.net/books/bpp4awd/_images/flowchart_nested_conditional.png'/>\n",
    "\n",
    "\n",
    "We could have written the previous example as follows:"
   ]
  },
  {
   "cell_type": "code",
   "execution_count": null,
   "metadata": {},
   "outputs": [],
   "source": [
    "if choice == 'a':\n",
    "    print(\"You chose 'a'.\")\n",
    "else:\n",
    "    if choice == 'b':\n",
    "        print(\"You chose 'b'.\")\n",
    "    elif choice == 'c':\n",
    "        print(\"You chose 'c'.\")\n",
    "    else:\n",
    "        print(\"Invalid choice.\")"
   ]
  },
  {
   "cell_type": "markdown",
   "metadata": {},
   "source": [
    "## ***Practice: Write a conditional statement to help us to deerminehow to sort the M&M's***\n",
    "\n",
    "We want to check the if the color of an M&M is a primary color. If so, place it in basket one, else place it in basket 2. \n"
   ]
  },
  {
   "cell_type": "code",
   "execution_count": null,
   "metadata": {},
   "outputs": [],
   "source": [
    "\n",
    "primary_colors = ['red', 'yellow', 'blue']\n",
    "m_m = 'blue'"
   ]
  },
  {
   "cell_type": "code",
   "execution_count": null,
   "metadata": {},
   "outputs": [],
   "source": [
    "#your code here:\n",
    "\n",
    "basket_1 =[]\n",
    "basket_2 = []\n",
    "\n",
    "\n",
    "if ____ in ____:\n",
    "    ____.append(m_m)\n",
    "else:\n",
    "    ____._____(____)\n",
    "    \n",
    "print(____)\n"
   ]
  },
  {
   "cell_type": "markdown",
   "metadata": {},
   "source": [
    "## Iterations\n",
    "\n",
    "Computers are often used to automate repetitive tasks. Repeating identical or similar tasks without making errors is something that computers do well and people do poorly.\n",
    "\n",
    "Repeated execution of a set of statements is called iteration. Python has two statements for iteration – the **for** statement and the **while** statement."
   ]
  },
  {
   "cell_type": "markdown",
   "metadata": {},
   "source": [
    "### For loop\n",
    "\n",
    "The for loop processes each item in a sequence, so it is used with Python’s sequence data types - strings, lists, and tuples.\n",
    "\n",
    "Each item in turn is (re-)assigned to the loop variable, and the body of the loop is executed.\n",
    "\n",
    "The general form of a for loop is:\n",
    "```\n",
    "for LOOP_VARIABLE in SEQUENCE:\n",
    "    STATEMENTS\n",
    "```\n",
    "    \n",
    "This is another example of a compound statement in Python, and like the branching statements, it has a header terminated by a colon (:) and a body consisting of a sequence of one or more statements indented the same amount from the header."
   ]
  },
  {
   "cell_type": "code",
   "execution_count": null,
   "metadata": {},
   "outputs": [],
   "source": [
    "example = 'exam      ple'\n",
    "\n",
    "for x in example:\n",
    "    print(x)"
   ]
  },
  {
   "cell_type": "code",
   "execution_count": null,
   "metadata": {},
   "outputs": [],
   "source": [
    "friends = ['Margot', 'Kathryn', 'Prisila']\n",
    "for friend in friends:\n",
    "    invitation = \"Hi \" + friend + \".  Please come to my party on Saturday!\"\n",
    "    print(invitation)"
   ]
  },
  {
   "cell_type": "code",
   "execution_count": null,
   "metadata": {},
   "outputs": [],
   "source": [
    "for i in range(len(friends)):\n",
    "#     print('i is now:', i)\n",
    "    print(friends[i])"
   ]
  },
  {
   "cell_type": "markdown",
   "metadata": {},
   "source": [
    "### While Loop\n",
    "\n",
    "A while loop executes an unknown number of times, as long at the BOOLEAN EXPRESSION is true.\n",
    "\n",
    "\n"
   ]
  },
  {
   "cell_type": "code",
   "execution_count": null,
   "metadata": {},
   "outputs": [],
   "source": [
    "number = 0\n",
    "prompt = \"What is the meaning of life, the universe, and everything? \"\n",
    "\n",
    "while number != \"42\":\n",
    "    number =  input(prompt)"
   ]
  },
  {
   "cell_type": "markdown",
   "metadata": {},
   "source": [
    "The flow of execution for a while statement works like this:\n",
    "\n",
    "1. Evaluate the condition (BOOLEAN EXPRESSION), yielding False or True.\n",
    "2. If the condition is false, exit the while statement and continue execution at the next statement.\n",
    "3. If the condition is true, execute each of the STATEMENTS in the body and then go back to step 1."
   ]
  },
  {
   "cell_type": "code",
   "execution_count": null,
   "metadata": {},
   "outputs": [],
   "source": [
    "import numpy as np"
   ]
  },
  {
   "cell_type": "code",
   "execution_count": null,
   "metadata": {},
   "outputs": [],
   "source": [
    "x = np.random.randint(0,11,1)[0]"
   ]
  },
  {
   "cell_type": "code",
   "execution_count": null,
   "metadata": {},
   "outputs": [],
   "source": [
    "x"
   ]
  },
  {
   "cell_type": "code",
   "execution_count": null,
   "metadata": {},
   "outputs": [],
   "source": [
    "\n",
    "guess = input(\"Guess a number 0 throught 10 \")\n",
    "tot_guesses = 0\n",
    "\n",
    "while int(guess) != x and tot_guesses <= 5:\n",
    "    print(\"Nope, that's not it!\" )\n",
    "#     print('Guess Count:',tot_guesses + 1)\n",
    "    guess = input(\"Guess again: \")\n",
    "    tot_guesses = tot_guesses + 1\n",
    "if int(guess) == x:\n",
    "    print('you got it right')"
   ]
  },
  {
   "cell_type": "markdown",
   "metadata": {},
   "source": [
    "### Choosing between for and while\n",
    "\n",
    "Use a for loop if you know, before you start looping, the maximum number of times that you’ll need to execute the body. For example, if you’re traversing a list of elements, you know that the maximum number of loop iterations you can possibly need is “all the elements in the list”. Or if you need to print the 12 times table, we know right away how many times the loop will need to run.\n",
    "\n",
    "\n",
    "By contrast, if you are required to repeat some computation until some condition is met, and you cannot calculate in advance when this will happen, you’ll need a while loop.\n",
    "\n",
    "We call the first case definite iteration — we have some definite bounds for what is needed. The latter case is called indefinite iteration — we’re not sure how many iterations we’ll need — we cannot even establish an upper bound!"
   ]
  },
  {
   "cell_type": "markdown",
   "metadata": {},
   "source": [
    "### Practice:  Take your conditional statem about M&Ms above and put it within a loop so that you can evaluate a list of M&Ms"
   ]
  },
  {
   "cell_type": "code",
   "execution_count": null,
   "metadata": {},
   "outputs": [],
   "source": [
    "basket_of_mms = ['brown', 'yellow', 'green', 'red', 'orange', 'blue']"
   ]
  },
  {
   "cell_type": "code",
   "execution_count": null,
   "metadata": {},
   "outputs": [],
   "source": [
    "# your code here"
   ]
  },
  {
   "cell_type": "markdown",
   "metadata": {},
   "source": [
    "## Looping through Dictionaries\n",
    "\n"
   ]
  },
  {
   "cell_type": "code",
   "execution_count": null,
   "metadata": {},
   "outputs": [],
   "source": [
    "questions =  {'A': {'question': 'How many people can fit in a Corvette?',\n",
    "                          'response_choices': [1,2,3,4],\n",
    "                            'answer': 2},\n",
    "             'B': {'question': 'What is the MPG of a Corvette?',\n",
    "                  'response_choices': [15,20, 25, 30],\n",
    "                    'answer': 15},\n",
    "             'C': {'question': 'How much horsepower does a Corvette have?',\n",
    "                  'response_choices': [200,300, 400, 500],\n",
    "                    'answer': 400}}"
   ]
  },
  {
   "cell_type": "code",
   "execution_count": null,
   "metadata": {},
   "outputs": [],
   "source": [
    "print(questions.values())"
   ]
  },
  {
   "cell_type": "code",
   "execution_count": null,
   "metadata": {},
   "outputs": [],
   "source": [
    "#create a container to hold my list of questions\n",
    "list_of_questions = []\n",
    "#create a loop that goes through the dictionary\n",
    "for v in questions.values():\n",
    "    #set variable question to the question in the dictionary\n",
    "    print(v)\n",
    "    question = v['question']\n",
    "    list_of_questions.append(question)\n",
    "    #here is a one line version of this\n",
    "#     list_of_questions.append(v['question'])\n",
    "\n",
    "print(list_of_questions)"
   ]
  },
  {
   "cell_type": "code",
   "execution_count": null,
   "metadata": {},
   "outputs": [],
   "source": [
    "#create a container to hold my list of questions\n",
    "list_of_answers = []\n",
    "\n",
    "#create a loop that goes through the dictionary\n",
    "for a in questions.values():\n",
    "    list_of_answers.append(a['answer'])\n",
    "\n",
    "print(list_of_answers)"
   ]
  },
  {
   "cell_type": "code",
   "execution_count": null,
   "metadata": {},
   "outputs": [],
   "source": [
    "for k,v in questions.items():\n",
    "    print('key = ',k)\n",
    "    print(\"value=\",v)\n"
   ]
  },
  {
   "cell_type": "markdown",
   "metadata": {},
   "source": [
    "### The break statement\n",
    "The break statement is used to immediately leave the body of its loop. The next statement to be executed is the first one after the body:\n",
    "\n"
   ]
  },
  {
   "cell_type": "code",
   "execution_count": null,
   "metadata": {},
   "outputs": [],
   "source": [
    "for i in [12, 16, 17, 24, 29]:\n",
    "    if i % 2 == 1:  # if the number is odd\n",
    "        break        # immediately exit the loop\n",
    "    print(i)\n",
    "print(\"done\")"
   ]
  },
  {
   "cell_type": "markdown",
   "metadata": {},
   "source": [
    "### The continue statement\n",
    "\n",
    "This is a control flow statement that causes the program to immediately skip the processing of the rest of the body of the loop, for the current iteration. But the loop still carries on running for its remaining iterations:"
   ]
  },
  {
   "cell_type": "code",
   "execution_count": null,
   "metadata": {},
   "outputs": [],
   "source": [
    "for i in [12, 16, 17, 24, 29, 30]:\n",
    "    if i % 2 == 1:      # if the number is odd\n",
    "        continue        # don't process it\n",
    "    print(i)\n",
    "print(\"done\")"
   ]
  },
  {
   "cell_type": "markdown",
   "metadata": {},
   "source": [
    "## Functions"
   ]
  },
  {
   "cell_type": "markdown",
   "metadata": {},
   "source": [
    "A function is a block of organized, reusable code that is used to perform a single, related action. Functions provide better modularity for your application and a high degree of code reusing."
   ]
  },
  {
   "cell_type": "markdown",
   "metadata": {},
   "source": [
    "#### Defining a Function\n",
    "You can define functions to provide the required functionality. Here are simple rules to define a function in Python.\n",
    "\n",
    "- Function blocks begin with the keyword def followed by the function name and parentheses ( ( ) ).\n",
    "\n",
    "- Any input parameters or arguments should be placed within these parentheses. You can also define parameters inside these parentheses.\n",
    "\n",
    "- The first statement of a function can be an optional statement - the documentation string of the function or docstring.\n",
    "\n",
    "- The code block within every function starts with a colon (:) and is indented.\n",
    "\n",
    "- The statement return [expression] exits a function, optionally passing back an expression to the caller. A return statement with no arguments is the same as return None."
   ]
  },
  {
   "cell_type": "markdown",
   "metadata": {},
   "source": [
    "```\n",
    "def printme(str):\n",
    "   \"This prints a passed string into this function\"\n",
    "   print str\n",
    "   return\n",
    "```"
   ]
  },
  {
   "cell_type": "markdown",
   "metadata": {},
   "source": [
    "#### Calling a Function\n",
    "Defining a function only gives it a name, specifies the parameters that are to be included in the function and structures the blocks of code.\n",
    "\n",
    "Once the basic structure of a function is finalized, you can execute it by calling it from another function or directly from the Python prompt. Following is the example to call printme() function −"
   ]
  },
  {
   "cell_type": "code",
   "execution_count": null,
   "metadata": {},
   "outputs": [],
   "source": [
    "# Function definition is here\n",
    "def printme( string ):\n",
    "   \"This prints a passed string into this function\"\n",
    "   print(string)\n",
    "   return string+'sijdflk';"
   ]
  },
  {
   "cell_type": "code",
   "execution_count": null,
   "metadata": {},
   "outputs": [],
   "source": [
    "\n",
    "\n",
    "# Now you can call printme function\n",
    "printme(\"I'm first call to user defined function!\")\n"
   ]
  },
  {
   "cell_type": "code",
   "execution_count": null,
   "metadata": {},
   "outputs": [],
   "source": [
    "new_string = printme(\"Again second call to the same function\")"
   ]
  },
  {
   "cell_type": "code",
   "execution_count": null,
   "metadata": {},
   "outputs": [],
   "source": [
    "print(new_string)"
   ]
  },
  {
   "cell_type": "markdown",
   "metadata": {},
   "source": [
    "#### Function Arguments\n",
    "You can call a function by using the following types of formal arguments −\n",
    "\n",
    "- Required arguments\n",
    "- Keyword arguments\n",
    "- Default arguments\n",
    "- Variable-length arguments\n",
    "- Required arguments\n"
   ]
  },
  {
   "cell_type": "markdown",
   "metadata": {},
   "source": [
    "\n",
    "**Required arguments** are the arguments passed to a function in correct positional order. Here, the number of arguments in the function call should match exactly with the function definition.\n",
    "\n",
    "To call the function printme(), you definitely need to pass one argument, otherwise it gives a syntax error as follows −"
   ]
  },
  {
   "cell_type": "code",
   "execution_count": null,
   "metadata": {},
   "outputs": [],
   "source": [
    "printme()"
   ]
  },
  {
   "cell_type": "markdown",
   "metadata": {},
   "source": [
    "A **default argument** is an argument that assumes a default value if a value is not provided in the function call for that argument. The following example gives an idea on default arguments, it prints default age if it is not passed −\n",
    "\n"
   ]
  },
  {
   "cell_type": "code",
   "execution_count": null,
   "metadata": {},
   "outputs": [],
   "source": [
    "# Function definition is here\n",
    "def printinfo( name, age = 35 ):\n",
    "   \"This prints a passed info into this function\"\n",
    "   print(\"Name:\", name)\n",
    "   print(\"Age\", age)\n",
    "   return;\n",
    "\n",
    "# Now you can call printinfo function\n",
    "printinfo( age=50, name=\"miki\" )\n",
    "printinfo( name=\"miki\" )"
   ]
  },
  {
   "cell_type": "markdown",
   "metadata": {},
   "source": [
    "***Practice: Move the code you wrote for separating M&M's into a function***"
   ]
  },
  {
   "cell_type": "code",
   "execution_count": null,
   "metadata": {},
   "outputs": [],
   "source": [
    "# your code here"
   ]
  },
  {
   "cell_type": "markdown",
   "metadata": {},
   "source": [
    "### Practice:\n"
   ]
  },
  {
   "cell_type": "code",
   "execution_count": null,
   "metadata": {},
   "outputs": [],
   "source": [
    "students = [\n",
    "['Abdul Tawab Safi', '08/04/1997', ['Tawaba', 'Kochi'],['BJJ', 'Cricket', 'Gaming', 'MMA']],\n",
    "['Bridget Boakye','07-13-1990',['Bre', 'B'],['Reading', 'Writing', 'Public Speaking', 'Exercise', 'Traveling']],\n",
    "[\"Cristina\", '09/09',[\" Ms.Donkey\" , \"Cristi\"],[' Python',' Animals']],\n",
    "['Danny(Haoyang)','1997-03-19',[],['soccer','basketball','music','philosophy']],\n",
    "['Dustin', '04/15/94', ['Dusty', 'D'], ['Tennis', 'Traveling', 'NY Knicks', 'Fitness']],\n",
    "['Gregory DeSantis','11/23/1987',['Blaze'], ['Running', 'Skateboarding', 'Reading', 'Coding']],\n",
    "[\"Harrison Miller\", \"10-2\",['harry'],[\"skiing\",\"hiking\",'gaming','eating']],\n",
    "['Jeremy Owens','03/30/1990',['Jerbea'],['Gaming', 'Weightlifting', 'Science', 'Cooking']],\n",
    "['Jeremy Reikes', '10-12-1995', ['Germ', 'Jer'], ['Baseball', 'Dogs', 'Coffee', 'pYtHoN', 'Hiking', 'TV', 'Cryptocurrencies']],\n",
    "['Jonathan', '02/19/1994', ['Jp', 'Peck'], ['sports', 'cooking', 'tech', 'philosophy']],\n",
    "['Matthew', '4.14.1989',['matty','wass'],['food', 'pythons, but actual snakes','sci-fi tv shows']],\n",
    "['Minna','11/19/1996',['Minna fish', 'Min'],['hiking','surfing', 'playing with my dog', 'going to museums', 'listening to music']],\n",
    "['Nabil Abbas,', '12/07/1994', ['Nibz', 'Nabeezy', 'Balle'],['NBA', 'Twitter', 'photography','humanitarian work']],\n",
    "['Natalie Del Rossi', '10-23-1994', 'Nat', ['hiking', 'reading', 'tv and movies', 'cooking']],\n",
    "['Remy Canario','10/11/1988',['Remstar', 'Rem', 'Remyx'],\n",
    "['octopuses','the letter y','nets','household objects shaped like things they are not']],\n",
    "['Xristos', 'March 24', 'Zris', ['Music', 'Video Games', 'Twitter', 'Philosophy']],\n",
    "['Taylor Hawks','11/09/1990', [None],['Electronic music', 'Documentaries', 'Skiing']],\n",
    "['Vishal Patel','02/08/1990', ['V', 'Visual', 'Vish'],['Rock climbing', 'Basketball', 'Food']]  \n",
    "]"
   ]
  },
  {
   "cell_type": "markdown",
   "metadata": {},
   "source": [
    "    \n",
    "Above is a lists of lists with information about each student. Earlier today we decided that it is probably best to store this data as a dictionary instead. So we want to write a function that takes this lists of lists and returns a dictionary. "
   ]
  },
  {
   "cell_type": "markdown",
   "metadata": {},
   "source": [
    "#### Step 0: Determine what you want the final data structure to look like\n",
    "\n"
   ]
  },
  {
   "cell_type": "code",
   "execution_count": null,
   "metadata": {},
   "outputs": [],
   "source": [
    "# write out a short example \n",
    "\n"
   ]
  },
  {
   "cell_type": "markdown",
   "metadata": {},
   "source": [
    "#### Step 1: Be able to parse one person into a dictionary\n",
    "    \n",
    "So we want to take one student and write a block of code that will turn it into a dictionary.   "
   ]
  },
  {
   "cell_type": "code",
   "execution_count": null,
   "metadata": {},
   "outputs": [],
   "source": [
    "student = students[____]\n",
    "print(____)\n"
   ]
  },
  {
   "cell_type": "code",
   "execution_count": null,
   "metadata": {
    "scrolled": true
   },
   "outputs": [],
   "source": [
    "#create a container to hold the individucal student\n",
    "student_dict = {_______}\n",
    "\n",
    "\n",
    "print(student_dict)"
   ]
  },
  {
   "cell_type": "markdown",
   "metadata": {},
   "source": [
    "#### Step 2: Write a loop that applies the above block of code to the entire list of students"
   ]
  },
  {
   "cell_type": "code",
   "execution_count": null,
   "metadata": {},
   "outputs": [],
   "source": [
    "# first create a container to hold all of the student_dicts\n",
    "\n",
    "# create a loop"
   ]
  },
  {
   "cell_type": "markdown",
   "metadata": {},
   "source": [
    "#### Step 3: Define a function that takes an argument and then move this loop within that function that takes an argument. "
   ]
  },
  {
   "cell_type": "code",
   "execution_count": null,
   "metadata": {},
   "outputs": [],
   "source": [
    "# write function here\n"
   ]
  },
  {
   "cell_type": "markdown",
   "metadata": {},
   "source": [
    "#### Step 4: Call Function on our data and trouble shoot any errors"
   ]
  },
  {
   "cell_type": "code",
   "execution_count": null,
   "metadata": {},
   "outputs": [],
   "source": [
    "#call function\n",
    "student_loop(____)"
   ]
  },
  {
   "cell_type": "markdown",
   "metadata": {},
   "source": [
    "#### Bonus Step:  If someone list more than 4 interests, cut the list to only include their first 4. "
   ]
  },
  {
   "cell_type": "code",
   "execution_count": null,
   "metadata": {},
   "outputs": [],
   "source": []
  }
 ],
 "metadata": {
  "kernelspec": {
   "display_name": "Python 3",
   "language": "python",
   "name": "python3"
  },
  "language_info": {
   "codemirror_mode": {
    "name": "ipython",
    "version": 3
   },
   "file_extension": ".py",
   "mimetype": "text/x-python",
   "name": "python",
   "nbconvert_exporter": "python",
   "pygments_lexer": "ipython3",
   "version": "3.7.3"
  }
 },
 "nbformat": 4,
 "nbformat_minor": 2
}
